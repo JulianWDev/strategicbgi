{
 "cells": [
  {
   "cell_type": "code",
   "execution_count": 9,
   "id": "2a1e02b6",
   "metadata": {},
   "outputs": [
    {
     "name": "stdout",
     "output_type": "stream",
     "text": [
      "   Preference Vector\n",
      "0            0.42898\n",
      "1            0.14204\n",
      "2            0.42898\n"
     ]
    }
   ],
   "source": [
    "import pandas as pd\n",
    "import numpy as np\n",
    "\n",
    "data = {\n",
    "    'ksat': [1, 0.33, 1],\n",
    "    'wcs': [3, 1, 3],\n",
    "    'ad': [1, 0.33, 1]\n",
    "}\n",
    "\n",
    "T = pd.DataFrame(data, index=['ksat', 'wcs', 'ad'])\n",
    "\n",
    "def sncs_method(input_df):\n",
    "    # Convert the pandas dataframe to a numpy array for easier manipulation\n",
    "    T = input_df.to_numpy()\n",
    "\n",
    "    # Calculate normalisation factors for each column\n",
    "    column_sums = np.sum(T, axis=0)\n",
    "    alpha = 1 / column_sums\n",
    "\n",
    "    # Normalise each column and sum them to get the weight vector w\n",
    "    normalised_columns = T * alpha\n",
    "    w = np.sum(normalised_columns, axis=1)\n",
    "\n",
    "    # Normalise the weight vector so that its components sum to 1\n",
    "    w = w / np.sum(w)\n",
    "\n",
    "    # Create a pandas dataframe for the resulting vector w\n",
    "    w_df = pd.DataFrame(w, columns=['Preference Vector'])\n",
    "\n",
    "    return w_df\n",
    "\n",
    "w_df = sncs_method(T)\n",
    "print(w_df)"
   ]
  }
 ],
 "metadata": {
  "kernelspec": {
   "display_name": "Python 3",
   "language": "python",
   "name": "python3"
  },
  "language_info": {
   "codemirror_mode": {
    "name": "ipython",
    "version": 3
   },
   "file_extension": ".py",
   "mimetype": "text/x-python",
   "name": "python",
   "nbconvert_exporter": "python",
   "pygments_lexer": "ipython3",
   "version": "3.12.7"
  }
 },
 "nbformat": 4,
 "nbformat_minor": 5
}
