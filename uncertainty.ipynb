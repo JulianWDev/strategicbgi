{
 "cells": [
  {
   "cell_type": "markdown",
   "id": "57b46bad",
   "metadata": {},
   "source": [
    "### Uncertainty analysis\n",
    "Using the Monte Carlo Simulations method"
   ]
  },
  {
   "cell_type": "code",
   "execution_count": null,
   "id": "140fef2e",
   "metadata": {},
   "outputs": [],
   "source": [
    "import numpy as np\n",
    "import rasterio as rio\n",
    "import smca_model"
   ]
  },
  {
   "cell_type": "code",
   "execution_count": null,
   "id": "81813bf6",
   "metadata": {},
   "outputs": [],
   "source": [
    "ksat = rio.open('Rasters/ksat.tif')\n",
    "wcs = rio.open('Rasters/wcs.tif')\n",
    "alt_dev = rio.open('Rasters/alt_dev.tif')"
   ]
  },
  {
   "cell_type": "code",
   "execution_count": null,
   "id": "8027b0d4",
   "metadata": {},
   "outputs": [],
   "source": [
    "def monte_carlo_simulation(model, data, n_simulations):\n",
    "    results = []\n",
    "    for _ in range(n_simulations):\n",
    "        # Introduce variations to your data\n",
    "        varied_data = data + np.random.normal(0, 1, data.shape)\n",
    "        # Run your model\n",
    "        result = model.fit(varied_data, target).predict(varied_data)\n",
    "        results.append(result)\n",
    "    return results"
   ]
  },
  {
   "cell_type": "code",
   "execution_count": null,
   "id": "50c3a205",
   "metadata": {},
   "outputs": [],
   "source": [
    "monte_carlo_simulation(smca_model, data, 1000)"
   ]
  }
 ],
 "metadata": {
  "kernelspec": {
   "display_name": "Python 3",
   "language": "python",
   "name": "python3"
  },
  "language_info": {
   "name": "python",
   "version": "3.12.7"
  }
 },
 "nbformat": 4,
 "nbformat_minor": 5
}
