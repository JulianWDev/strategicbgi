{
 "cells": [
  {
   "cell_type": "markdown",
   "id": "57b46bad",
   "metadata": {},
   "source": [
    "### Uncertainty analysis\n",
    "Using the Monte Carlo Simulations method"
   ]
  },
  {
   "cell_type": "code",
   "execution_count": 1,
   "id": "140fef2e",
   "metadata": {},
   "outputs": [],
   "source": [
    "import numpy as np\n",
    "import rasterio as rio"
   ]
  },
  {
   "cell_type": "code",
   "execution_count": 2,
   "id": "81813bf6",
   "metadata": {},
   "outputs": [],
   "source": [
    "# Load the rasters\n",
    "ksat = rio.open('Rasters/ksat.tif')\n",
    "wcs = rio.open('Rasters/wcs.tif')\n",
    "alt_dev = rio.open('Rasters/alt-dev.tif')"
   ]
  },
  {
   "cell_type": "code",
   "execution_count": 3,
   "id": "6bd53f24",
   "metadata": {},
   "outputs": [],
   "source": [
    "# Convert rasters to numpy arrays\n",
    "ksat_data = ksat.read()\n",
    "wcs_data = wcs.read()\n",
    "alt_dev_data = alt_dev.read()\n"
   ]
  },
  {
   "cell_type": "code",
   "execution_count": 4,
   "id": "8027b0d4",
   "metadata": {},
   "outputs": [
    {
     "ename": "SyntaxError",
     "evalue": "incomplete input (2009632123.py, line 1)",
     "output_type": "error",
     "traceback": [
      "  \u001b[36mCell\u001b[39m\u001b[36m \u001b[39m\u001b[32mIn[4]\u001b[39m\u001b[32m, line 1\u001b[39m\n\u001b[31m    \u001b[39m\u001b[31mdef monte_carlo_simulation(model, data, num_simulations):\u001b[39m\n                                                             ^\n\u001b[31mSyntaxError\u001b[39m\u001b[31m:\u001b[39m incomplete input\n"
     ]
    }
   ],
   "source": [
    "def monte_carlo_simulation(model, data, num_simulations):\n"
   ]
  },
  {
   "cell_type": "code",
   "execution_count": null,
   "id": "50c3a205",
   "metadata": {},
   "outputs": [
    {
     "ename": "TypeError",
     "evalue": "'module' object is not callable. Did you mean: 'smca_model.smca_model(...)'?",
     "output_type": "error",
     "traceback": [
      "\u001b[31m---------------------------------------------------------------------------\u001b[39m",
      "\u001b[31mTypeError\u001b[39m                                 Traceback (most recent call last)",
      "\u001b[36mCell\u001b[39m\u001b[36m \u001b[39m\u001b[32mIn[9]\u001b[39m\u001b[32m, line 1\u001b[39m\n\u001b[32m----> \u001b[39m\u001b[32m1\u001b[39m \u001b[43mmonte_carlo_simulation\u001b[49m\u001b[43m(\u001b[49m\u001b[43msmca_model\u001b[49m\u001b[43m,\u001b[49m\u001b[43m \u001b[49m\u001b[43msmca_data\u001b[49m\u001b[43m,\u001b[49m\u001b[43m \u001b[49m\u001b[32;43m10\u001b[39;49m\u001b[43m)\u001b[49m\n\u001b[32m      3\u001b[39m \u001b[38;5;66;03m# Save the results to a file\u001b[39;00m\n\u001b[32m      4\u001b[39m \u001b[38;5;28;01mwith\u001b[39;00m \u001b[38;5;28mopen\u001b[39m(\u001b[33m'\u001b[39m\u001b[33msimulation_results.txt\u001b[39m\u001b[33m'\u001b[39m, \u001b[33m'\u001b[39m\u001b[33mw\u001b[39m\u001b[33m'\u001b[39m) \u001b[38;5;28;01mas\u001b[39;00m f:\n",
      "\u001b[36mCell\u001b[39m\u001b[36m \u001b[39m\u001b[32mIn[6]\u001b[39m\u001b[32m, line 17\u001b[39m, in \u001b[36mmonte_carlo_simulation\u001b[39m\u001b[34m(model, data, num_simulations)\u001b[39m\n\u001b[32m     14\u001b[39m \u001b[38;5;28;01mfor\u001b[39;00m _ \u001b[38;5;129;01min\u001b[39;00m \u001b[38;5;28mrange\u001b[39m(num_simulations):\n\u001b[32m     15\u001b[39m     \u001b[38;5;66;03m# Sample input data with some randomness\u001b[39;00m\n\u001b[32m     16\u001b[39m     sampled_data = {key: value + np.random.normal(\u001b[32m0\u001b[39m, \u001b[32m0.1\u001b[39m, size=value.shape) \u001b[38;5;28;01mfor\u001b[39;00m key, value \u001b[38;5;129;01min\u001b[39;00m data.items()}\n\u001b[32m---> \u001b[39m\u001b[32m17\u001b[39m     result = \u001b[43mmodel\u001b[49m\u001b[43m(\u001b[49m\u001b[43m*\u001b[49m\u001b[43m*\u001b[49m\u001b[43msampled_data\u001b[49m\u001b[43m)\u001b[49m\n\u001b[32m     18\u001b[39m     results.append(result)\n\u001b[32m     19\u001b[39m \u001b[38;5;28;01mreturn\u001b[39;00m results\n",
      "\u001b[31mTypeError\u001b[39m: 'module' object is not callable. Did you mean: 'smca_model.smca_model(...)'?"
     ]
    }
   ],
   "source": [
    "monte_carlo_simulation(smca_model.smca_model, smca_data, 10)\n",
    "\n",
    "# Save the results to a file\n",
    "with open('simulation_results.txt', 'w') as f:\n",
    "    for result in monte_carlo_simulation(smca_model.smca_model, smca_data, 10):\n",
    "        f.write(f\"{result}\\n\")"
   ]
  },
  {
   "cell_type": "code",
   "execution_count": 4,
   "id": "8d89e053",
   "metadata": {},
   "outputs": [],
   "source": [
    "weights = [0.43, 0.14, 0.43]\n",
    "\n",
    "# Define the type for each criterion\n",
    "# '1' for benefit, '0' for cost\n",
    "types = [1, 1, 0]"
   ]
  },
  {
   "cell_type": "code",
   "execution_count": null,
   "id": "ffe56cb3",
   "metadata": {},
   "outputs": [],
   "source": [
    "def smca_model(ksat_data, wcs_data, alt_dev_data, weights, types):\n",
    "    # Check if data are the same size/shape, if not raise an error\n",
    "    if ksat_data.shape != wcs_data.shape or ksat_data.shape != alt_dev_data.shape:\n",
    "        raise ValueError(\"Input data must have the same shape\")\n",
    "\n",
    "    # Multiply ksat by the appropriate weight and invert if required\n",
    "    ksat_weighted = ksat_data * weights[0]\n",
    "    if types[0] == 0:\n",
    "        ksat_weighted = 1 - ksat_weighted\n",
    "\n",
    "    # Multiply wcs by the appropriate weight and invert if required\n",
    "    wcs_weighted = wcs_data * weights[1]\n",
    "    if types[1] == 0:\n",
    "        wcs_weighted = 1 - wcs_weighted\n",
    "\n",
    "    # Multiply alt_dev by the appropriate weight and invert if required\n",
    "    alt_dev_weighted = alt_dev_data * weights[2]\n",
    "    if types[2] == 1:\n",
    "        alt_dev_weighted = 1 - alt_dev_weighted\n",
    "\n",
    "    # Sum the weighted data\n",
    "    result = np.sum([ksat_weighted, wcs_weighted, alt_dev_weighted], axis=0)\n",
    "\n",
    "    return result\n",
    "    \n",
    "smca_model(\n",
    "    ksat_data,\n",
    "    wcs_data,\n",
    "    alt_dev_data,\n",
    "    weights,\n",
    "    types\n",
    ")\n",
    "\n",
    "# Save the result to a file\n",
    "profile = rio.open('Rasters/ksat.tif').profile\n",
    "with rio.open('smca_results.tif', 'w', **profile) as dst:\n",
    "    dst.write(result)\n"
   ]
  }
 ],
 "metadata": {
  "kernelspec": {
   "display_name": "Python 3",
   "language": "python",
   "name": "python3"
  },
  "language_info": {
   "codemirror_mode": {
    "name": "ipython",
    "version": 3
   },
   "file_extension": ".py",
   "mimetype": "text/x-python",
   "name": "python",
   "nbconvert_exporter": "python",
   "pygments_lexer": "ipython3",
   "version": "3.12.7"
  }
 },
 "nbformat": 4,
 "nbformat_minor": 5
}
