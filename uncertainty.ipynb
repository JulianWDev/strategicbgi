{
 "cells": [
  {
   "cell_type": "markdown",
   "id": "57b46bad",
   "metadata": {},
   "source": [
    "### Uncertainty analysis\n",
    "Using the Monte Carlo Simulations method"
   ]
  },
  {
   "cell_type": "code",
   "execution_count": null,
   "id": "140fef2e",
   "metadata": {},
   "outputs": [],
   "source": [
    "import numpy as np\n",
    "import rasterio as rio"
   ]
  },
  {
   "cell_type": "code",
   "execution_count": null,
   "id": "81813bf6",
   "metadata": {},
   "outputs": [],
   "source": [
    "# Load the rasters\n",
    "ksat = rio.open('Rasters/ksat.tif')\n",
    "wcs = rio.open('Rasters/wcs.tif')\n",
    "alt_dev = rio.open('Rasters/alt-dev.tif')"
   ]
  },
  {
   "cell_type": "code",
   "execution_count": 3,
   "id": "6bd53f24",
   "metadata": {},
   "outputs": [],
   "source": [
    "# Convert rasters to numpy arrays\n",
    "ksat_data = ksat.read()\n",
    "wcs_data = wcs.read()\n",
    "alt_dev_data = alt_dev.read()\n",
    "\n",
    "smca_data = {\n",
    "    'ksat': ksat_data,\n",
    "    'wcs': wcs_data,\n",
    "    'alt_dev': alt_dev_data\n",
    "}\n"
   ]
  },
  {
   "cell_type": "code",
   "execution_count": 4,
   "id": "8027b0d4",
   "metadata": {},
   "outputs": [
    {
     "ename": "SyntaxError",
     "evalue": "incomplete input (2009632123.py, line 1)",
     "output_type": "error",
     "traceback": [
      "  \u001b[36mCell\u001b[39m\u001b[36m \u001b[39m\u001b[32mIn[4]\u001b[39m\u001b[32m, line 1\u001b[39m\n\u001b[31m    \u001b[39m\u001b[31mdef monte_carlo_simulation(model, data, num_simulations):\u001b[39m\n                                                             ^\n\u001b[31mSyntaxError\u001b[39m\u001b[31m:\u001b[39m incomplete input\n"
     ]
    }
   ],
   "source": [
    "def monte_carlo_simulation(model, data, num_simulations):\n"
   ]
  },
  {
   "cell_type": "code",
   "execution_count": null,
   "id": "50c3a205",
   "metadata": {},
   "outputs": [
    {
     "ename": "TypeError",
     "evalue": "'module' object is not callable. Did you mean: 'smca_model.smca_model(...)'?",
     "output_type": "error",
     "traceback": [
      "\u001b[31m---------------------------------------------------------------------------\u001b[39m",
      "\u001b[31mTypeError\u001b[39m                                 Traceback (most recent call last)",
      "\u001b[36mCell\u001b[39m\u001b[36m \u001b[39m\u001b[32mIn[9]\u001b[39m\u001b[32m, line 1\u001b[39m\n\u001b[32m----> \u001b[39m\u001b[32m1\u001b[39m \u001b[43mmonte_carlo_simulation\u001b[49m\u001b[43m(\u001b[49m\u001b[43msmca_model\u001b[49m\u001b[43m,\u001b[49m\u001b[43m \u001b[49m\u001b[43msmca_data\u001b[49m\u001b[43m,\u001b[49m\u001b[43m \u001b[49m\u001b[32;43m10\u001b[39;49m\u001b[43m)\u001b[49m\n\u001b[32m      3\u001b[39m \u001b[38;5;66;03m# Save the results to a file\u001b[39;00m\n\u001b[32m      4\u001b[39m \u001b[38;5;28;01mwith\u001b[39;00m \u001b[38;5;28mopen\u001b[39m(\u001b[33m'\u001b[39m\u001b[33msimulation_results.txt\u001b[39m\u001b[33m'\u001b[39m, \u001b[33m'\u001b[39m\u001b[33mw\u001b[39m\u001b[33m'\u001b[39m) \u001b[38;5;28;01mas\u001b[39;00m f:\n",
      "\u001b[36mCell\u001b[39m\u001b[36m \u001b[39m\u001b[32mIn[6]\u001b[39m\u001b[32m, line 17\u001b[39m, in \u001b[36mmonte_carlo_simulation\u001b[39m\u001b[34m(model, data, num_simulations)\u001b[39m\n\u001b[32m     14\u001b[39m \u001b[38;5;28;01mfor\u001b[39;00m _ \u001b[38;5;129;01min\u001b[39;00m \u001b[38;5;28mrange\u001b[39m(num_simulations):\n\u001b[32m     15\u001b[39m     \u001b[38;5;66;03m# Sample input data with some randomness\u001b[39;00m\n\u001b[32m     16\u001b[39m     sampled_data = {key: value + np.random.normal(\u001b[32m0\u001b[39m, \u001b[32m0.1\u001b[39m, size=value.shape) \u001b[38;5;28;01mfor\u001b[39;00m key, value \u001b[38;5;129;01min\u001b[39;00m data.items()}\n\u001b[32m---> \u001b[39m\u001b[32m17\u001b[39m     result = \u001b[43mmodel\u001b[49m\u001b[43m(\u001b[49m\u001b[43m*\u001b[49m\u001b[43m*\u001b[49m\u001b[43msampled_data\u001b[49m\u001b[43m)\u001b[49m\n\u001b[32m     18\u001b[39m     results.append(result)\n\u001b[32m     19\u001b[39m \u001b[38;5;28;01mreturn\u001b[39;00m results\n",
      "\u001b[31mTypeError\u001b[39m: 'module' object is not callable. Did you mean: 'smca_model.smca_model(...)'?"
     ]
    }
   ],
   "source": [
    "monte_carlo_simulation(smca_model.smca_model, smca_data, 10)\n",
    "\n",
    "# Save the results to a file\n",
    "with open('simulation_results.txt', 'w') as f:\n",
    "    for result in monte_carlo_simulation(smca_model.smca_model, smca_data, 10):\n",
    "        f.write(f\"{result}\\n\")"
   ]
  },
  {
   "cell_type": "code",
   "execution_count": 5,
   "id": "8d89e053",
   "metadata": {},
   "outputs": [],
   "source": [
    "weights = {\n",
    "    'ksat': 0.43,\n",
    "    'wcs': 0.14,\n",
    "    'alt_dev': 0.43\n",
    "}\n",
    "\n",
    "# Define the type for each criterion\n",
    "# '1' for benefit, '0' for cost\n",
    "types = {\n",
    "    'ksat': '1',\n",
    "    'wcs': '1',\n",
    "    'alt_dev': '0'\n",
    "}"
   ]
  },
  {
   "cell_type": "code",
   "execution_count": 10,
   "id": "ffe56cb3",
   "metadata": {},
   "outputs": [
    {
     "name": "stdout",
     "output_type": "stream",
     "text": [
      "ksat shape: (1, 342, 339)\n",
      "wcs shape: (1, 342, 339)\n",
      "alt_dev shape: (1, 3422, 3398)\n"
     ]
    },
    {
     "ename": "ValueError",
     "evalue": "All input rasters must have the same shape.",
     "output_type": "error",
     "traceback": [
      "\u001b[31m---------------------------------------------------------------------------\u001b[39m",
      "\u001b[31mValueError\u001b[39m                                Traceback (most recent call last)",
      "\u001b[36mCell\u001b[39m\u001b[36m \u001b[39m\u001b[32mIn[10]\u001b[39m\u001b[32m, line 38\u001b[39m\n\u001b[32m     34\u001b[39m         dst.write(result, \u001b[32m1\u001b[39m)\n\u001b[32m     36\u001b[39m     \u001b[38;5;28;01mreturn\u001b[39;00m result\n\u001b[32m---> \u001b[39m\u001b[32m38\u001b[39m \u001b[43msmca_model\u001b[49m\u001b[43m(\u001b[49m\n\u001b[32m     39\u001b[39m \u001b[43m    \u001b[49m\u001b[43msmca_data\u001b[49m\u001b[43m,\u001b[49m\n\u001b[32m     40\u001b[39m \u001b[43m    \u001b[49m\u001b[43mweights\u001b[49m\u001b[43m,\u001b[49m\n\u001b[32m     41\u001b[39m \u001b[43m    \u001b[49m\u001b[43mtypes\u001b[49m\u001b[43m,\u001b[49m\n\u001b[32m     42\u001b[39m \u001b[43m    \u001b[49m\u001b[43moutput_file\u001b[49m\u001b[43m=\u001b[49m\u001b[33;43m'\u001b[39;49m\u001b[33;43msmca_results.tif\u001b[39;49m\u001b[33;43m'\u001b[39;49m\u001b[43m,\u001b[49m\n\u001b[32m     43\u001b[39m \u001b[43m    \u001b[49m\u001b[43mprofile_file\u001b[49m\u001b[43m=\u001b[49m\u001b[33;43m'\u001b[39;49m\u001b[33;43m./Rasters/ksat.tif\u001b[39;49m\u001b[33;43m'\u001b[39;49m\n\u001b[32m     44\u001b[39m \u001b[43m)\u001b[49m\n",
      "\u001b[36mCell\u001b[39m\u001b[36m \u001b[39m\u001b[32mIn[10]\u001b[39m\u001b[32m, line 20\u001b[39m, in \u001b[36msmca_model\u001b[39m\u001b[34m(data, weights, types, output_file, profile_file)\u001b[39m\n\u001b[32m     18\u001b[39m     \u001b[38;5;28mprint\u001b[39m(\u001b[33m\"\u001b[39m\u001b[33mwcs shape:\u001b[39m\u001b[33m\"\u001b[39m, data[\u001b[33m'\u001b[39m\u001b[33mwcs\u001b[39m\u001b[33m'\u001b[39m].shape)\n\u001b[32m     19\u001b[39m     \u001b[38;5;28mprint\u001b[39m(\u001b[33m\"\u001b[39m\u001b[33malt_dev shape:\u001b[39m\u001b[33m\"\u001b[39m, data[\u001b[33m'\u001b[39m\u001b[33malt_dev\u001b[39m\u001b[33m'\u001b[39m].shape)\n\u001b[32m---> \u001b[39m\u001b[32m20\u001b[39m     \u001b[38;5;28;01mraise\u001b[39;00m \u001b[38;5;167;01mValueError\u001b[39;00m(\u001b[33m\"\u001b[39m\u001b[33mAll input rasters must have the same shape.\u001b[39m\u001b[33m\"\u001b[39m)\n\u001b[32m     22\u001b[39m \u001b[38;5;66;03m# Stack the data\u001b[39;00m\n\u001b[32m     23\u001b[39m data = np.stack((data[\u001b[33m'\u001b[39m\u001b[33mksat\u001b[39m\u001b[33m'\u001b[39m], data[\u001b[33m'\u001b[39m\u001b[33mwcs\u001b[39m\u001b[33m'\u001b[39m], data[\u001b[33m'\u001b[39m\u001b[33malt_dev\u001b[39m\u001b[33m'\u001b[39m]), axis=-\u001b[32m1\u001b[39m)\n",
      "\u001b[31mValueError\u001b[39m: All input rasters must have the same shape."
     ]
    }
   ],
   "source": [
    "def smca_model(data, weights, types, output_file, profile_file):\n",
    "    \"\"\"\n",
    "    SMCA model implementation.\n",
    "    \n",
    "    Parameters:\n",
    "    ksat (rasterio.DatasetReader): Saturated hydraulic conductivity raster.\n",
    "    wcs (rasterio.DatasetReader): Water content saturation raster.\n",
    "    alt_dev (rasterio.DatasetReader): Altitude deviation raster.\n",
    "    weights (np.ndarray): Weights for each criterion.\n",
    "    types (np.ndarray): Types of each criterion (1 for benefit, 0 for cost).\n",
    "    \n",
    "    Returns:\n",
    "    np.ndarray: Resulting raster after applying the SMCA model.\n",
    "    \"\"\"\n",
    "    # Check if the data all have the same shape\n",
    "    if not (data['ksat'].shape == data['wcs'].shape == data['alt_dev'].shape):\n",
    "        print(\"ksat shape:\", data['ksat'].shape)\n",
    "        print(\"wcs shape:\", data['wcs'].shape)\n",
    "        print(\"alt_dev shape:\", data['alt_dev'].shape)\n",
    "        raise ValueError(\"All input rasters must have the same shape.\")\n",
    "        \n",
    "    # Stack the data\n",
    "    data = np.stack((data['ksat'], data['wcs'], data['alt_dev']), axis=-1)\n",
    "\n",
    "    # Apply weights and types\n",
    "    weighted_data = data * weights * types[:, np.newaxis]\n",
    "    \n",
    "    # Sum the weighted data\n",
    "    result = np.sum(weighted_data, axis=-1)\n",
    "    \n",
    "    # Save the result to a file\n",
    "    profile = rio.open(profile_file).profile\n",
    "    with rio.open(output_file, 'w', **profile) as dst:\n",
    "        dst.write(result, 1)\n",
    "\n",
    "    return result\n",
    "\n",
    "smca_model(\n",
    "    smca_data,\n",
    "    weights,\n",
    "    types,\n",
    "    output_file='smca_results.tif',\n",
    "    profile_file='./Rasters/ksat.tif'\n",
    ")"
   ]
  }
 ],
 "metadata": {
  "kernelspec": {
   "display_name": "Python 3",
   "language": "python",
   "name": "python3"
  },
  "language_info": {
   "codemirror_mode": {
    "name": "ipython",
    "version": 3
   },
   "file_extension": ".py",
   "mimetype": "text/x-python",
   "name": "python",
   "nbconvert_exporter": "python",
   "pygments_lexer": "ipython3",
   "version": "3.12.7"
  }
 },
 "nbformat": 4,
 "nbformat_minor": 5
}
