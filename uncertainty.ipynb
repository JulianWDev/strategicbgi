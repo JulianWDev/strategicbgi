{
 "cells": [
  {
   "cell_type": "markdown",
   "id": "57b46bad",
   "metadata": {},
   "source": [
    "### Uncertainty analysis\n",
    "Using the Monte Carlo Simulations method"
   ]
  },
  {
   "cell_type": "code",
   "execution_count": 6,
   "id": "140fef2e",
   "metadata": {},
   "outputs": [],
   "source": [
    "import numpy as np\n",
    "import rasterio as rio"
   ]
  },
  {
   "cell_type": "code",
   "execution_count": 7,
   "id": "81813bf6",
   "metadata": {},
   "outputs": [],
   "source": [
    "# Load the rasters\n",
    "ksat = rio.open('Rasters/ksat.tif')\n",
    "wcs = rio.open('Rasters/wcs.tif')\n",
    "alt_dev = rio.open('Rasters/alt-dev.tif')"
   ]
  },
  {
   "cell_type": "code",
   "execution_count": 8,
   "id": "6bd53f24",
   "metadata": {},
   "outputs": [],
   "source": [
    "# Convert rasters to numpy arrays\n",
    "ksat_data = ksat.read()\n",
    "wcs_data = wcs.read()\n",
    "alt_dev_data = alt_dev.read()\n"
   ]
  },
  {
   "cell_type": "code",
   "execution_count": 9,
   "id": "8d89e053",
   "metadata": {},
   "outputs": [],
   "source": [
    "weights = [0.43, 0.14, 0.43]\n",
    "\n",
    "# Define the type for each criterion\n",
    "# '1' for benefit, '0' for cost\n",
    "types = [1, 1, 0]"
   ]
  },
  {
   "cell_type": "code",
   "execution_count": null,
   "id": "ffe56cb3",
   "metadata": {},
   "outputs": [],
   "source": [
    "result = smca_model(\n",
    "    ksat_data,\n",
    "    wcs_data,\n",
    "    alt_dev_data,\n",
    "    weights,\n",
    "    types\n",
    ")\n"
   ]
  },
  {
   "cell_type": "code",
   "execution_count": null,
   "id": "8db8c21c",
   "metadata": {},
   "outputs": [],
   "source": [
    "monte_carlo_"
   ]
  }
 ],
 "metadata": {
  "kernelspec": {
   "display_name": "Python 3",
   "language": "python",
   "name": "python3"
  },
  "language_info": {
   "codemirror_mode": {
    "name": "ipython",
    "version": 3
   },
   "file_extension": ".py",
   "mimetype": "text/x-python",
   "name": "python",
   "nbconvert_exporter": "python",
   "pygments_lexer": "ipython3",
   "version": "3.12.7"
  }
 },
 "nbformat": 4,
 "nbformat_minor": 5
}
